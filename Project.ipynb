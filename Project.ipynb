{
 "cells": [
  {
   "attachments": {},
   "cell_type": "markdown",
   "metadata": {},
   "source": [
    "# Title Will GO Here\n",
    "\n",
    "The data obtained in this project will serve to answer a hypothesis that I have yet to decide upon.\n",
    "\n",
    "### Table of Contents\n",
    "\n",
    "**-Hypothesis** <br>\n",
    "**-Data** <br>\n",
    "**-Visualizations** <br> "
   ]
  }
 ],
 "metadata": {
  "kernelspec": {
   "display_name": "venv",
   "language": "python",
   "name": "python3"
  },
  "language_info": {
   "name": "python",
   "version": "3.10.10"
  },
  "orig_nbformat": 4,
  "vscode": {
   "interpreter": {
    "hash": "b2470b22d0e2de0fecaf7af1b2d5bbc16ff15cd2cf7cfc6011afc5ae35b7173e"
   }
  }
 },
 "nbformat": 4,
 "nbformat_minor": 2
}
