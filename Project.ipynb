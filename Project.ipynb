{
 "cells": [
  {
   "attachments": {},
   "cell_type": "markdown",
   "metadata": {},
   "source": [
    "# Movies, Movies, Movies!\n",
    "\n",
    "The data obtained in this project will comes directly from https://www.kaggle.com/code/rafburzy/movies-dataset-analysis/data.\n",
    "Movie data ranging from 1986-2016 that was scraped from IMDB.com and complied into a csv file.\n",
    "\n",
    "### Table of Contents\n",
    "\n",
    "**-Hypothesis** What was the most popular Genre of movie for the 90s? (1990-1999)<br>\n",
    "**-Data** <br>\n",
    "**-Visualizations** <br> "
   ]
  },
  {
   "cell_type": "code",
   "execution_count": 10,
   "metadata": {},
   "outputs": [],
   "source": [
    "import os\n",
    "\n",
    "#Get current working directory\n",
    "cwd = os.getcwd()\n",
    "\n",
    "#Construct a path to the zip file in the subdirectory 'data'\n",
    "file_path = os.path.join(cwd, 'data', 'movies.csv.zip')\n",
    "\n"
   ]
  },
  {
   "cell_type": "code",
   "execution_count": 12,
   "metadata": {},
   "outputs": [
    {
     "name": "stdout",
     "output_type": "stream",
     "text": [
      "                                             name rating      genre  year  \\\n",
      "0                                     The Shining      R      Drama  1980   \n",
      "1                                 The Blue Lagoon      R  Adventure  1980   \n",
      "2  Star Wars: Episode V - The Empire Strikes Back     PG     Action  1980   \n",
      "3                                       Airplane!     PG     Comedy  1980   \n",
      "4                                      Caddyshack      R     Comedy  1980   \n",
      "\n",
      "                        released  score      votes         director  \\\n",
      "0  June 13, 1980 (United States)    8.4   927000.0  Stanley Kubrick   \n",
      "1   July 2, 1980 (United States)    5.8    65000.0   Randal Kleiser   \n",
      "2  June 20, 1980 (United States)    8.7  1200000.0   Irvin Kershner   \n",
      "3   July 2, 1980 (United States)    7.7   221000.0     Jim Abrahams   \n",
      "4  July 25, 1980 (United States)    7.3   108000.0     Harold Ramis   \n",
      "\n",
      "                    writer            star         country      budget  \\\n",
      "0             Stephen King  Jack Nicholson  United Kingdom  19000000.0   \n",
      "1  Henry De Vere Stacpoole  Brooke Shields   United States   4500000.0   \n",
      "2           Leigh Brackett     Mark Hamill   United States  18000000.0   \n",
      "3             Jim Abrahams     Robert Hays   United States   3500000.0   \n",
      "4       Brian Doyle-Murray     Chevy Chase   United States   6000000.0   \n",
      "\n",
      "         gross             company  runtime  \n",
      "0   46998772.0        Warner Bros.    146.0  \n",
      "1   58853106.0   Columbia Pictures    104.0  \n",
      "2  538375067.0           Lucasfilm    124.0  \n",
      "3   83453539.0  Paramount Pictures     88.0  \n",
      "4   39846344.0      Orion Pictures     98.0  \n"
     ]
    }
   ],
   "source": [
    "import zipfile\n",
    "import pandas as pd\n",
    "\n",
    "# Open the zip file and extract the CSV file\n",
    "with zipfile.ZipFile(file_path, 'r') as zip_file:\n",
    "    zip_file.extractall()\n",
    "\n",
    "# Read the CSV file into a pandas DataFrame\n",
    "df = pd.read_csv('./data/movies.csv')\n",
    "\n",
    "# Display the first few rows of the DataFrame\n",
    "print(df.head())"
   ]
  }
 ],
 "metadata": {
  "kernelspec": {
   "display_name": "Python 3",
   "language": "python",
   "name": "python3"
  },
  "language_info": {
   "codemirror_mode": {
    "name": "ipython",
    "version": 3
   },
   "file_extension": ".py",
   "mimetype": "text/x-python",
   "name": "python",
   "nbconvert_exporter": "python",
   "pygments_lexer": "ipython3",
   "version": "3.10.10"
  },
  "orig_nbformat": 4,
  "vscode": {
   "interpreter": {
    "hash": "1a5b0791dd1214d081889e0c21ab32cc95b0e30649a5df031cdd2cfda2bcc5f4"
   }
  }
 },
 "nbformat": 4,
 "nbformat_minor": 2
}
